{
 "cells": [
  {
   "cell_type": "code",
   "execution_count": 14,
   "id": "operating-atlas",
   "metadata": {},
   "outputs": [
    {
     "name": "stdout",
     "output_type": "stream",
     "text": [
      "Message data = 19\n",
      "\n",
      "Encrypted data = 10\n",
      "\n",
      "Original Message Sent = 19.0\n"
     ]
    }
   ],
   "source": [
    "def gcd(a, h):\n",
    "    temp = 0\n",
    "    while True:\n",
    "        temp = a%h\n",
    "        if temp == 0:\n",
    "            return h\n",
    "        a = h\n",
    "        h = temp\n",
    "        \n",
    "p = 3;\n",
    "q = 7;\n",
    "n = p*q;\n",
    "\n",
    "e = 2;\n",
    "phi = (p-1)*(q-1);\n",
    "\n",
    "while e < phi:\n",
    "    if (gcd(e, phi)==1):\n",
    "        break\n",
    "    else:\n",
    "        e += 1\n",
    "        \n",
    "k = 2\n",
    "d = (1 + (k*phi))/e\n",
    "\n",
    "msg = 19\n",
    "\n",
    "print(\"Message data =\", msg)\n",
    "\n",
    "c = pow(msg, e)\n",
    "c = c%n\n",
    "print(\"\\nEncrypted data =\", c)\n",
    "\n",
    "m = pow(c, d)\n",
    "m = m%n\n",
    "print(\"\\nOriginal Message Sent =\", m)"
   ]
  },
  {
   "cell_type": "code",
   "execution_count": null,
   "id": "plastic-destiny",
   "metadata": {},
   "outputs": [],
   "source": []
  }
 ],
 "metadata": {
  "kernelspec": {
   "display_name": "Python 3",
   "language": "python",
   "name": "python3"
  },
  "language_info": {
   "codemirror_mode": {
    "name": "ipython",
    "version": 3
   },
   "file_extension": ".py",
   "mimetype": "text/x-python",
   "name": "python",
   "nbconvert_exporter": "python",
   "pygments_lexer": "ipython3",
   "version": "3.8.8"
  }
 },
 "nbformat": 4,
 "nbformat_minor": 5
}
